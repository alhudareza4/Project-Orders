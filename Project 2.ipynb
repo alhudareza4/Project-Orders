{
 "cells": [
  {
   "cell_type": "markdown",
   "metadata": {},
   "source": [
    "# Main Question\n",
    "\n",
    "1. Apakah perbedaan signifikan secara statistik antara perusahaan pengiriman berdasarkan waktu pengiriman ?\n",
    "2. Apakah pilihan Dari Perusahaan pengiriman memiliki pengaruh pada Biaya Kargo ?\n"
   ]
  },
  {
   "cell_type": "code",
   "execution_count": 1,
   "metadata": {},
   "outputs": [],
   "source": [
    "import mysql.connector as msc\n",
    "import pandas as pd\n",
    "import numpy as np\n",
    "import seaborn as sns\n",
    "import matplotlib.pyplot as plt\n",
    "import statsmodels.api as sm\n",
    "from scipy.stats import normaltest\n",
    "from scipy.stats.mstats import winsorize\n",
    "from scipy.stats import wilcoxon\n",
    "from scipy.stats import f_oneway\n",
    "import warnings\n",
    "warnings.filterwarnings(\"ignore\")"
   ]
  },
  {
   "cell_type": "markdown",
   "metadata": {},
   "source": [
    "## QUERY DATA DARI MYSQL"
   ]
  },
  {
   "cell_type": "code",
   "execution_count": 2,
   "metadata": {},
   "outputs": [],
   "source": [
    "mydb = msc.connect(host='localhost',\n",
    "                              user='root',\n",
    "                              passwd='Reza233439',\n",
    "                              database ='northwind')"
   ]
  },
  {
   "cell_type": "code",
   "execution_count": 3,
   "metadata": {},
   "outputs": [],
   "source": [
    "mycursor=mydb.cursor()\n",
    "\n",
    "def executedb(query):\n",
    "    mycursor.execute(query)\n",
    "    result = mycursor.fetchall()\n",
    "    df = pd.DataFrame(result , columns= mycursor.column_names)\n",
    "    return df"
   ]
  },
  {
   "cell_type": "code",
   "execution_count": 4,
   "metadata": {},
   "outputs": [
    {
     "data": {
      "text/html": [
       "<div>\n",
       "<style scoped>\n",
       "    .dataframe tbody tr th:only-of-type {\n",
       "        vertical-align: middle;\n",
       "    }\n",
       "\n",
       "    .dataframe tbody tr th {\n",
       "        vertical-align: top;\n",
       "    }\n",
       "\n",
       "    .dataframe thead th {\n",
       "        text-align: right;\n",
       "    }\n",
       "</style>\n",
       "<table border=\"1\" class=\"dataframe\">\n",
       "  <thead>\n",
       "    <tr style=\"text-align: right;\">\n",
       "      <th></th>\n",
       "      <th>OrderId</th>\n",
       "      <th>OrderDate</th>\n",
       "      <th>RequiredDate</th>\n",
       "      <th>Freight</th>\n",
       "      <th>CompanyName</th>\n",
       "      <th>UnitPrice</th>\n",
       "      <th>Quantity</th>\n",
       "    </tr>\n",
       "  </thead>\n",
       "  <tbody>\n",
       "    <tr>\n",
       "      <th>0</th>\n",
       "      <td>10248</td>\n",
       "      <td>1996-07-04</td>\n",
       "      <td>1996-08-01</td>\n",
       "      <td>32.3800</td>\n",
       "      <td>Federal Shipping</td>\n",
       "      <td>14.0000</td>\n",
       "      <td>12</td>\n",
       "    </tr>\n",
       "    <tr>\n",
       "      <th>1</th>\n",
       "      <td>10248</td>\n",
       "      <td>1996-07-04</td>\n",
       "      <td>1996-08-01</td>\n",
       "      <td>32.3800</td>\n",
       "      <td>Federal Shipping</td>\n",
       "      <td>9.8000</td>\n",
       "      <td>10</td>\n",
       "    </tr>\n",
       "    <tr>\n",
       "      <th>2</th>\n",
       "      <td>10248</td>\n",
       "      <td>1996-07-04</td>\n",
       "      <td>1996-08-01</td>\n",
       "      <td>32.3800</td>\n",
       "      <td>Federal Shipping</td>\n",
       "      <td>34.8000</td>\n",
       "      <td>5</td>\n",
       "    </tr>\n",
       "    <tr>\n",
       "      <th>3</th>\n",
       "      <td>10249</td>\n",
       "      <td>1996-07-05</td>\n",
       "      <td>1996-08-16</td>\n",
       "      <td>11.6100</td>\n",
       "      <td>Speedy Express</td>\n",
       "      <td>18.6000</td>\n",
       "      <td>9</td>\n",
       "    </tr>\n",
       "    <tr>\n",
       "      <th>4</th>\n",
       "      <td>10249</td>\n",
       "      <td>1996-07-05</td>\n",
       "      <td>1996-08-16</td>\n",
       "      <td>11.6100</td>\n",
       "      <td>Speedy Express</td>\n",
       "      <td>42.4000</td>\n",
       "      <td>40</td>\n",
       "    </tr>\n",
       "  </tbody>\n",
       "</table>\n",
       "</div>"
      ],
      "text/plain": [
       "   OrderId  OrderDate RequiredDate  Freight       CompanyName UnitPrice  \\\n",
       "0    10248 1996-07-04   1996-08-01  32.3800  Federal Shipping   14.0000   \n",
       "1    10248 1996-07-04   1996-08-01  32.3800  Federal Shipping    9.8000   \n",
       "2    10248 1996-07-04   1996-08-01  32.3800  Federal Shipping   34.8000   \n",
       "3    10249 1996-07-05   1996-08-16  11.6100    Speedy Express   18.6000   \n",
       "4    10249 1996-07-05   1996-08-16  11.6100    Speedy Express   42.4000   \n",
       "\n",
       "   Quantity  \n",
       "0        12  \n",
       "1        10  \n",
       "2         5  \n",
       "3         9  \n",
       "4        40  "
      ]
     },
     "execution_count": 4,
     "metadata": {},
     "output_type": "execute_result"
    }
   ],
   "source": [
    "query = '''\n",
    "WITH OrderCTE \n",
    "AS \n",
    "(\n",
    "    SELECT o.OrderId, o.OrderDate, o.RequiredDate, o.Freight, s.CompanyName, od.UnitPrice, od.Quantity\n",
    "    FROM orders o\n",
    "    left join Shippers s ON o.Shipvia = s.ShipperID\n",
    "    left join OrderDetails od ON o.OrderID = od.OrderID\n",
    ")\n",
    "SELECT * FROM OrderCTE;\n",
    "'''\n",
    "df = executedb(query)\n",
    "df.head()"
   ]
  },
  {
   "cell_type": "code",
   "execution_count": 5,
   "metadata": {},
   "outputs": [
    {
     "name": "stdout",
     "output_type": "stream",
     "text": [
      "<class 'pandas.core.frame.DataFrame'>\n",
      "RangeIndex: 2155 entries, 0 to 2154\n",
      "Data columns (total 7 columns):\n",
      " #   Column        Non-Null Count  Dtype         \n",
      "---  ------        --------------  -----         \n",
      " 0   OrderId       2155 non-null   int64         \n",
      " 1   OrderDate     2155 non-null   datetime64[ns]\n",
      " 2   RequiredDate  2155 non-null   datetime64[ns]\n",
      " 3   Freight       2155 non-null   object        \n",
      " 4   CompanyName   2155 non-null   object        \n",
      " 5   UnitPrice     2155 non-null   object        \n",
      " 6   Quantity      2155 non-null   int64         \n",
      "dtypes: datetime64[ns](2), int64(2), object(3)\n",
      "memory usage: 118.0+ KB\n"
     ]
    }
   ],
   "source": [
    "df.info()"
   ]
  },
  {
   "cell_type": "markdown",
   "metadata": {},
   "source": [
    "* Dataset yang digunakan merupakan tabel Orders yang  ada pada Database NorthWind\n",
    "* Dari Tabel Orders, OrderDetails dan Shipper kita hanya mengambil 7 kolom"
   ]
  },
  {
   "cell_type": "markdown",
   "metadata": {},
   "source": [
    "## Data Cleaning"
   ]
  },
  {
   "cell_type": "markdown",
   "metadata": {},
   "source": [
    "### Missing Value"
   ]
  },
  {
   "cell_type": "code",
   "execution_count": 7,
   "metadata": {},
   "outputs": [
    {
     "data": {
      "text/plain": [
       "OrderId         0\n",
       "OrderDate       0\n",
       "RequiredDate    0\n",
       "Freight         0\n",
       "CompanyName     0\n",
       "UnitPrice       0\n",
       "Quantity        0\n",
       "dtype: int64"
      ]
     },
     "execution_count": 7,
     "metadata": {},
     "output_type": "execute_result"
    }
   ],
   "source": [
    "# Data Cleaning\n",
    "# mengecek Missing Value\n",
    "#df.isna().sum()/len(df.index)*100\n",
    "df.isna().sum()\n",
    "#df.info()"
   ]
  },
  {
   "cell_type": "markdown",
   "metadata": {},
   "source": [
    "* Berdasarkan pengecekan Missing Value tidak terdapat Missing value pada setiap kolom sehingga kita melanjutkan ketahap berikutnya"
   ]
  },
  {
   "cell_type": "markdown",
   "metadata": {},
   "source": [
    "### Duplicated Data"
   ]
  },
  {
   "cell_type": "code",
   "execution_count": 8,
   "metadata": {},
   "outputs": [
    {
     "data": {
      "text/plain": [
       "OrderId         1325\n",
       "OrderDate       1325\n",
       "RequiredDate    1325\n",
       "Freight         1325\n",
       "CompanyName     1325\n",
       "UnitPrice       1325\n",
       "Quantity        1325\n",
       "dtype: int64"
      ]
     },
     "execution_count": 8,
     "metadata": {},
     "output_type": "execute_result"
    }
   ],
   "source": [
    "# mengecek data duplikat\n",
    "df[df.duplicated(subset=['OrderId'])].count()\n",
    "#df.duplicated().sum()"
   ]
  },
  {
   "cell_type": "code",
   "execution_count": 9,
   "metadata": {},
   "outputs": [],
   "source": [
    "df.drop_duplicates(subset=['OrderId'], keep='first', inplace=True)"
   ]
  },
  {
   "cell_type": "markdown",
   "metadata": {},
   "source": [
    "* berdasarkan pengecekan data duplikasi berdasarkal kolom OrderID terdapat duplikasi data sebanyak 1325 dan kita memutuskan untuk mendropnya"
   ]
  },
  {
   "cell_type": "markdown",
   "metadata": {},
   "source": [
    "### Data Formating dan Membuat Kolom Baru"
   ]
  },
  {
   "cell_type": "code",
   "execution_count": null,
   "metadata": {},
   "outputs": [],
   "source": [
    "# Format Correction\n",
    "df['Freight'] = df['Freight'].astype(int)\n",
    "df['UnitPrice'] = df['UnitPrice'].astype(int)"
   ]
  },
  {
   "cell_type": "markdown",
   "metadata": {},
   "source": [
    "* Mengubah Tipe data Freight dan Unitprice yang sebelumnya memiliki format Object menjadi Format Integer"
   ]
  },
  {
   "cell_type": "code",
   "execution_count": 10,
   "metadata": {},
   "outputs": [
    {
     "data": {
      "text/html": [
       "<div>\n",
       "<style scoped>\n",
       "    .dataframe tbody tr th:only-of-type {\n",
       "        vertical-align: middle;\n",
       "    }\n",
       "\n",
       "    .dataframe tbody tr th {\n",
       "        vertical-align: top;\n",
       "    }\n",
       "\n",
       "    .dataframe thead th {\n",
       "        text-align: right;\n",
       "    }\n",
       "</style>\n",
       "<table border=\"1\" class=\"dataframe\">\n",
       "  <thead>\n",
       "    <tr style=\"text-align: right;\">\n",
       "      <th></th>\n",
       "      <th>OrderId</th>\n",
       "      <th>OrderDate</th>\n",
       "      <th>RequiredDate</th>\n",
       "      <th>Freight</th>\n",
       "      <th>CompanyName</th>\n",
       "      <th>UnitPrice</th>\n",
       "      <th>Quantity</th>\n",
       "      <th>ShippingTime</th>\n",
       "    </tr>\n",
       "  </thead>\n",
       "  <tbody>\n",
       "    <tr>\n",
       "      <th>0</th>\n",
       "      <td>10248</td>\n",
       "      <td>1996-07-04</td>\n",
       "      <td>1996-08-01</td>\n",
       "      <td>32</td>\n",
       "      <td>Federal Shipping</td>\n",
       "      <td>14</td>\n",
       "      <td>12</td>\n",
       "      <td>28 days</td>\n",
       "    </tr>\n",
       "    <tr>\n",
       "      <th>3</th>\n",
       "      <td>10249</td>\n",
       "      <td>1996-07-05</td>\n",
       "      <td>1996-08-16</td>\n",
       "      <td>11</td>\n",
       "      <td>Speedy Express</td>\n",
       "      <td>18</td>\n",
       "      <td>9</td>\n",
       "      <td>42 days</td>\n",
       "    </tr>\n",
       "    <tr>\n",
       "      <th>5</th>\n",
       "      <td>10250</td>\n",
       "      <td>1996-07-08</td>\n",
       "      <td>1996-08-05</td>\n",
       "      <td>65</td>\n",
       "      <td>United Package</td>\n",
       "      <td>7</td>\n",
       "      <td>10</td>\n",
       "      <td>28 days</td>\n",
       "    </tr>\n",
       "    <tr>\n",
       "      <th>8</th>\n",
       "      <td>10251</td>\n",
       "      <td>1996-07-08</td>\n",
       "      <td>1996-08-05</td>\n",
       "      <td>41</td>\n",
       "      <td>Speedy Express</td>\n",
       "      <td>16</td>\n",
       "      <td>6</td>\n",
       "      <td>28 days</td>\n",
       "    </tr>\n",
       "    <tr>\n",
       "      <th>11</th>\n",
       "      <td>10252</td>\n",
       "      <td>1996-07-09</td>\n",
       "      <td>1996-08-06</td>\n",
       "      <td>51</td>\n",
       "      <td>United Package</td>\n",
       "      <td>64</td>\n",
       "      <td>40</td>\n",
       "      <td>28 days</td>\n",
       "    </tr>\n",
       "  </tbody>\n",
       "</table>\n",
       "</div>"
      ],
      "text/plain": [
       "    OrderId  OrderDate RequiredDate  Freight       CompanyName  UnitPrice  \\\n",
       "0     10248 1996-07-04   1996-08-01       32  Federal Shipping         14   \n",
       "3     10249 1996-07-05   1996-08-16       11    Speedy Express         18   \n",
       "5     10250 1996-07-08   1996-08-05       65    United Package          7   \n",
       "8     10251 1996-07-08   1996-08-05       41    Speedy Express         16   \n",
       "11    10252 1996-07-09   1996-08-06       51    United Package         64   \n",
       "\n",
       "    Quantity ShippingTime  \n",
       "0         12      28 days  \n",
       "3          9      42 days  \n",
       "5         10      28 days  \n",
       "8          6      28 days  \n",
       "11        40      28 days  "
      ]
     },
     "execution_count": 10,
     "metadata": {},
     "output_type": "execute_result"
    }
   ],
   "source": [
    "# Menambah Kolom Baru\n",
    "\n",
    "df['ShippingTime'] = df['RequiredDate'] - df['OrderDate']\n",
    "df.head()"
   ]
  },
  {
   "cell_type": "code",
   "execution_count": 11,
   "metadata": {},
   "outputs": [],
   "source": [
    "# Dividing the avg_freight data into subsets\n",
    "df['Avg_Freight'] = (df['Freight'])/(df['Quantity'])\n",
    "df['Avg_Freight']=df['Avg_Freight'].astype(float)"
   ]
  },
  {
   "cell_type": "markdown",
   "metadata": {},
   "source": [
    "* Menambah Kolom Shipping Time dan Average Freight\n",
    "* Mengubah Format kolom Average Freight menjadi Float"
   ]
  },
  {
   "cell_type": "code",
   "execution_count": 52,
   "metadata": {},
   "outputs": [],
   "source": [
    "# mengubah format shippingtime hanya berisi hari\n",
    "df['ShippingTime'] = df['ShippingTime'].dt.days"
   ]
  },
  {
   "cell_type": "markdown",
   "metadata": {},
   "source": [
    "* Mengubah format datetime Shipping Time yang sebelumnya memiliki satuan hari dan jam menjadi hanya menggunakan satuan hari saja"
   ]
  },
  {
   "cell_type": "code",
   "execution_count": 13,
   "metadata": {},
   "outputs": [
    {
     "name": "stdout",
     "output_type": "stream",
     "text": [
      "<class 'pandas.core.frame.DataFrame'>\n",
      "Int64Index: 830 entries, 0 to 2130\n",
      "Data columns (total 9 columns):\n",
      " #   Column        Non-Null Count  Dtype         \n",
      "---  ------        --------------  -----         \n",
      " 0   OrderId       830 non-null    int64         \n",
      " 1   OrderDate     830 non-null    datetime64[ns]\n",
      " 2   RequiredDate  830 non-null    datetime64[ns]\n",
      " 3   Freight       830 non-null    int32         \n",
      " 4   CompanyName   830 non-null    object        \n",
      " 5   UnitPrice     830 non-null    int32         \n",
      " 6   Quantity      830 non-null    int64         \n",
      " 7   ShippingTime  830 non-null    int64         \n",
      " 8   Avg_Freight   830 non-null    float64       \n",
      "dtypes: datetime64[ns](2), float64(1), int32(2), int64(3), object(1)\n",
      "memory usage: 58.4+ KB\n"
     ]
    }
   ],
   "source": [
    "df.info()"
   ]
  },
  {
   "cell_type": "markdown",
   "metadata": {},
   "source": [
    "## 1. Apakah perbedaan signifikan secara statistik antara perusahaan pengiriman berdasarkan waktu pengiriman ?"
   ]
  },
  {
   "cell_type": "markdown",
   "metadata": {},
   "source": [
    "### Data Visualization"
   ]
  },
  {
   "cell_type": "code",
   "execution_count": 14,
   "metadata": {},
   "outputs": [
    {
     "data": {
      "text/html": [
       "<div>\n",
       "<style scoped>\n",
       "    .dataframe tbody tr th:only-of-type {\n",
       "        vertical-align: middle;\n",
       "    }\n",
       "\n",
       "    .dataframe tbody tr th {\n",
       "        vertical-align: top;\n",
       "    }\n",
       "\n",
       "    .dataframe thead th {\n",
       "        text-align: right;\n",
       "    }\n",
       "</style>\n",
       "<table border=\"1\" class=\"dataframe\">\n",
       "  <thead>\n",
       "    <tr style=\"text-align: right;\">\n",
       "      <th></th>\n",
       "      <th>CompanyName</th>\n",
       "      <th>OrderDate</th>\n",
       "      <th>RequiredDate</th>\n",
       "      <th>ShippingTime</th>\n",
       "    </tr>\n",
       "  </thead>\n",
       "  <tbody>\n",
       "    <tr>\n",
       "      <th>0</th>\n",
       "      <td>Federal Shipping</td>\n",
       "      <td>1996-07-04</td>\n",
       "      <td>1996-08-01</td>\n",
       "      <td>28</td>\n",
       "    </tr>\n",
       "    <tr>\n",
       "      <th>3</th>\n",
       "      <td>Speedy Express</td>\n",
       "      <td>1996-07-05</td>\n",
       "      <td>1996-08-16</td>\n",
       "      <td>42</td>\n",
       "    </tr>\n",
       "    <tr>\n",
       "      <th>5</th>\n",
       "      <td>United Package</td>\n",
       "      <td>1996-07-08</td>\n",
       "      <td>1996-08-05</td>\n",
       "      <td>28</td>\n",
       "    </tr>\n",
       "    <tr>\n",
       "      <th>8</th>\n",
       "      <td>Speedy Express</td>\n",
       "      <td>1996-07-08</td>\n",
       "      <td>1996-08-05</td>\n",
       "      <td>28</td>\n",
       "    </tr>\n",
       "    <tr>\n",
       "      <th>11</th>\n",
       "      <td>United Package</td>\n",
       "      <td>1996-07-09</td>\n",
       "      <td>1996-08-06</td>\n",
       "      <td>28</td>\n",
       "    </tr>\n",
       "  </tbody>\n",
       "</table>\n",
       "</div>"
      ],
      "text/plain": [
       "         CompanyName  OrderDate RequiredDate  ShippingTime\n",
       "0   Federal Shipping 1996-07-04   1996-08-01            28\n",
       "3     Speedy Express 1996-07-05   1996-08-16            42\n",
       "5     United Package 1996-07-08   1996-08-05            28\n",
       "8     Speedy Express 1996-07-08   1996-08-05            28\n",
       "11    United Package 1996-07-09   1996-08-06            28"
      ]
     },
     "execution_count": 14,
     "metadata": {},
     "output_type": "execute_result"
    }
   ],
   "source": [
    "# Membuat Data Frame baru\n",
    "shipping= df[['CompanyName', 'OrderDate', 'RequiredDate', 'ShippingTime']]\n",
    "shipping.head()"
   ]
  },
  {
   "cell_type": "code",
   "execution_count": 53,
   "metadata": {},
   "outputs": [
    {
     "data": {
      "image/png": "[encoded data removed]",
      "text/plain": [
       "<Figure size 576x432 with 1 Axes>"
      ]
     },
     "metadata": {
      "needs_background": "light"
     },
     "output_type": "display_data"
    }
   ],
   "source": [
    "plt.figure(figsize=(8,6))\n",
    "plt.hist(df['ShippingTime'], bins=3)\n",
    "plt.title('Distribusi Waktu pengiriman/Shipping', size=15)\n",
    "plt.show()"
   ]
  },
  {
   "cell_type": "markdown",
   "metadata": {},
   "source": [
    "* Visualisasi diatas merupakan persebaran/distribusi dari waktu pengiriman dari semua Perusahaan Pengiriman"
   ]
  },
  {
   "cell_type": "markdown",
   "metadata": {},
   "source": [
    "## Hypothesis Testing\n",
    "Apakah perbedaan signifikan secara statistik antara perusahaan pengiriman berdasarkan waktu pengiriman ?\n",
    "\n",
    "Untuk Pengujian ini kita melakukan pengujian Anova test. metode pengijian ini dipilih karena data Shipping Time yang digunakan dianggap terdistribusi normal sehingga metode statistik yang digunakan adalah metode statistik parametrik.\n",
    "\n",
    "* H0 : Perbedaan rata-rata waktu pengiriman (Shipping Time) dari ketika perusahaan adalah sama X1 = X2 = X3\n",
    "* HA : Perbedaan rata-rata waktu pengiriman (Shipping Time) dari ketika perusahaan adalah sama tidak sama X1 != X2 != X3\n",
    "\n",
    "Hypothesis Testing ini menggunakan Two tailed testing dan nilai alpha = 0.05"
   ]
  },
  {
   "cell_type": "code",
   "execution_count": 16,
   "metadata": {},
   "outputs": [
    {
     "name": "stdout",
     "output_type": "stream",
     "text": [
      "Terima H0\n",
      "0.4261631402701971\n"
     ]
    }
   ],
   "source": [
    "stat, pvalAnova = f_oneway(df[df['CompanyName'] == 'Federal Shipping']['ShippingTime'],\n",
    "                            df[df['CompanyName'] == 'Speedy Express']['ShippingTime'],\n",
    "                            df[df['CompanyName'] == 'United Package']['ShippingTime'])\n",
    "if pvalAnova < 0.05:\n",
    "    print('Tolak H0')\n",
    "else:\n",
    "    print('Terima H0')\n",
    "print(pvalAnova)"
   ]
  },
  {
   "cell_type": "markdown",
   "metadata": {},
   "source": [
    "Setelah melakukan ANOVA test, kita tidak memiliki cukup bukti untuk menolak H0 dengan nilai confidence interval 95 % dan nilai alpha 0.05 sehingga nilai rata-rata perbedaan setiap shipping company tidak berbeda signifikan secara statistik"
   ]
  },
  {
   "cell_type": "markdown",
   "metadata": {},
   "source": [
    "## 2. Apakah pilihan Dari Perusahaan pengiriman memiliki pengaruh pada Biaya Kargo ?"
   ]
  },
  {
   "cell_type": "markdown",
   "metadata": {},
   "source": [
    "### Data Cleaning"
   ]
  },
  {
   "cell_type": "code",
   "execution_count": 55,
   "metadata": {},
   "outputs": [
    {
     "name": "stdout",
     "output_type": "stream",
     "text": [
      "Skewness Score : 6.840823060120213\n"
     ]
    },
    {
     "data": {
      "image/png": "[encoded data removed]",
      "text/plain": [
       "<Figure size 576x432 with 1 Axes>"
      ]
     },
     "metadata": {
      "needs_background": "light"
     },
     "output_type": "display_data"
    }
   ],
   "source": [
    "# mengecek data outlier pada data target Avg_Freight\n",
    "plt.figure(figsize=(8,6))\n",
    "sns.boxplot(x=df['Avg_Freight'])\n",
    "plt.title('Persebaran Data Average Freight', size=15)\n",
    "print(\"Skewness Score : {}\".format(df['Avg_Freight'].skew()))"
   ]
  },
  {
   "cell_type": "markdown",
   "metadata": {},
   "source": [
    "### Skewness\n",
    "* Berdasarkan plot, Skewness Score adalah 6.84, hal ini mengindikasikan bahwa data memilikiki skewness yang tinggi dan berbentuk positive skewness dimana hal ini mengakibatkan mode dari data lebih kecil dari mean atau median."
   ]
  },
  {
   "cell_type": "code",
   "execution_count": 18,
   "metadata": {},
   "outputs": [
    {
     "data": {
      "text/plain": [
       "count    830.000000\n",
       "mean       4.403661\n",
       "std        7.539281\n",
       "min        0.000000\n",
       "25%        0.829762\n",
       "50%        2.200000\n",
       "75%        4.887500\n",
       "max      122.000000\n",
       "Name: Avg_Freight, dtype: float64"
      ]
     },
     "execution_count": 18,
     "metadata": {},
     "output_type": "execute_result"
    }
   ],
   "source": [
    "# Outliers handling\n",
    "df['Avg_Freight'].describe()"
   ]
  },
  {
   "cell_type": "markdown",
   "metadata": {},
   "source": [
    "* pada kolom Avg_Freight memiliki nilai yang jauh antara quantile 75% dengan nilai maksimum data hal ini mengindikasikan bahwa data Avg_Freight memiliki outlier"
   ]
  },
  {
   "cell_type": "code",
   "execution_count": 19,
   "metadata": {},
   "outputs": [],
   "source": [
    "# defining quantile\n",
    "Q1 =  df['Avg_Freight'].quantile(0.25)\n",
    "Q3 = df['Avg_Freight'].quantile(0.75)\n",
    "IQR =Q3 - Q1\n",
    "# defining lower and upper limit\n",
    "lower_lim = Q1 - 1.5 * IQR\n",
    "upper_lim = Q3 + 1.5 * IQR\n",
    "# selecting data from lower to upper range\n",
    "outlier_df_low = (df['Avg_Freight'] < lower_lim)\n",
    "outlier_df_up = (df['Avg_Freight'] > upper_lim)"
   ]
  },
  {
   "cell_type": "markdown",
   "metadata": {},
   "source": [
    "Proses mendapatkan nilai kuantil bawah dan kuantil atas"
   ]
  },
  {
   "cell_type": "code",
   "execution_count": 20,
   "metadata": {},
   "outputs": [
    {
     "data": {
      "text/plain": [
       "count    830.000000\n",
       "mean       4.143789\n",
       "std        5.546465\n",
       "min        0.000000\n",
       "25%        0.829762\n",
       "50%        2.200000\n",
       "75%        4.887500\n",
       "max       26.500000\n",
       "Name: Avg_Freight_win, dtype: float64"
      ]
     },
     "execution_count": 20,
     "metadata": {},
     "output_type": "execute_result"
    }
   ],
   "source": [
    "df['Avg_Freight_win'] = winsorize(df['Avg_Freight'], (0.01, 0.02))\n",
    "df['Avg_Freight_win'].describe()"
   ]
  },
  {
   "cell_type": "markdown",
   "metadata": {},
   "source": [
    "Terdapat beberapa metode untuk mengatasi outlier salah satunya dengan menghapus data outlier, cara ini tidak dipilih karena dikhawatirkan akan semakin mengurangi data-data outlier yang nantinya akan mengakibatkan semakin kurang akuratnya hasil pengolahan data. lalu metode log Transformation metode ini lebih umum digunakan pada machine learning tetapi metode ini akan melakukan transofrmasi pada data sehingga ditakutkan dapat menghilangkan informasi pada data awal.\n",
    "\n",
    "Sehingga pada pengujian kali ini kita menggunakan metode Winsorize. hal ini dikarenakan metode ini tidak mengurangi jumlah data yang ada dan tidak mentranformasi data yang ada."
   ]
  },
  {
   "cell_type": "code",
   "execution_count": 56,
   "metadata": {},
   "outputs": [
    {
     "data": {
      "image/png": "[encoded data removed]",
      "text/plain": [
       "<Figure size 720x720 with 2 Axes>"
      ]
     },
     "metadata": {
      "needs_background": "light"
     },
     "output_type": "display_data"
    },
    {
     "name": "stdout",
     "output_type": "stream",
     "text": [
      "Skewness Data sebelum winsorize : 6.840823060120213\n",
      "Skewness Data sesudah winsorize : 2.438069786476271\n"
     ]
    }
   ],
   "source": [
    "# Perbandingan persebaran data sebelum dan sesudah metode winsorize\n",
    "plt.figure(figsize=(10,10))\n",
    "plt.subplot(2,1,1)\n",
    "sns.boxplot(x=df['Avg_Freight'])\n",
    "plt.title('Persebaran Data Average Freight sebelum dilakukan winsorize', size=15)\n",
    "plt.subplot(2,1,2)\n",
    "sns.boxplot(x=df['Avg_Freight_win'])\n",
    "plt.title('Persebaran Data Average Freight Sesudah dilakukan winsorize', size=15)\n",
    "plt.legend(\"Skewness data : {}\".format(df['Avg_Freight_win'].skew()))\n",
    "plt.show()\n",
    "\n",
    "skewnes_1 = df['Avg_Freight'].skew()\n",
    "skewnes_2 = df['Avg_Freight_win'].skew()\n",
    "print(\"Skewness Data sebelum winsorize : {}\".format(skewnes_1))\n",
    "print(\"Skewness Data sesudah winsorize : {}\".format(skewnes_2))"
   ]
  },
  {
   "cell_type": "markdown",
   "metadata": {},
   "source": [
    "Skewness Analysis : "
   ]
  },
  {
   "cell_type": "code",
   "execution_count": 22,
   "metadata": {},
   "outputs": [],
   "source": [
    "all_companies = df['Avg_Freight_win']\n",
    "federal = df[df['CompanyName'] == 'Federal Shipping']['Avg_Freight_win']\n",
    "speedy = df[df['CompanyName'] == 'Speedy Express']['Avg_Freight_win']\n",
    "united = df[df['CompanyName'] == 'United Package']['Avg_Freight_win']"
   ]
  },
  {
   "cell_type": "code",
   "execution_count": 23,
   "metadata": {},
   "outputs": [
    {
     "data": {
      "image/png": "[encoded data removed]",
      "text/plain": [
       "<Figure size 1440x1440 with 4 Axes>"
      ]
     },
     "metadata": {
      "needs_background": "light"
     },
     "output_type": "display_data"
    }
   ],
   "source": [
    "# Checking the distribution plots\n",
    "\n",
    "plt.figure(figsize=(20,20))\n",
    "plt.subplot(2,2,1)\n",
    "sns.boxplot(y=df['Avg_Freight_win'], x=df['CompanyName'])\n",
    "plt.title('Freight Distribution of all Company')\n",
    "plt.subplot(2,2,2)\n",
    "sns.distplot(federal, label='Skewness : %2.f'%(federal.skew()))\n",
    "plt.legend(loc=0, fontsize=10)\n",
    "plt.title('Freight Distribution of Federal Shipping')\n",
    "plt.subplot(2,2,3)\n",
    "sns.distplot(speedy, label='Skewness : %2.f'%(speedy.skew()))\n",
    "plt.legend(loc=0, fontsize=10)\n",
    "plt.title('Freight Distribution of Speedy Express')\n",
    "plt.subplot(2,2,4)\n",
    "sns.distplot(united, label='Skewness : %2.f'%(united.skew()))\n",
    "plt.legend(loc=0, fontsize=10)\n",
    "plt.title('Freight Distribution of United Package')\n",
    "plt.show()"
   ]
  },
  {
   "cell_type": "code",
   "execution_count": 24,
   "metadata": {},
   "outputs": [
    {
     "data": {
      "image/png": "[encoded data removed]",
      "text/plain": [
       "<Figure size 432x288 with 1 Axes>"
      ]
     },
     "metadata": {
      "needs_background": "light"
     },
     "output_type": "display_data"
    },
    {
     "name": "stdout",
     "output_type": "stream",
     "text": [
      "Data Tidak Terdistribusi Normal\n"
     ]
    }
   ],
   "source": [
    "# melakukan uji normalitas pada Avg Freight\n",
    "sm.qqplot(df['Avg_Freight_win'], line='45')\n",
    "plt.show()\n",
    "stat ,pval= normaltest(df['Avg_Freight_win'])\n",
    "if pval > 0.05:\n",
    "    print('Data Terdistribusi Normal')\n",
    "else:\n",
    "    print('Data Tidak Terdistribusi Normal')"
   ]
  },
  {
   "cell_type": "markdown",
   "metadata": {},
   "source": [
    "* Berdasarkan QQ plot dan Normal test ini dapat dismpulkan Bahwa data Avg Freight tidak terdistribusi normal\n",
    "* Sehingga untuk Hypothesis Testing kita menggunakan pengukuran Statistik non-parametric\n",
    "* Walaupun telah dilakukan metode Winsorize untuk menangani data outlier. dapat dilihat bahwa Skewness dari data berkurang berdasarkan Score Skewness yang awalnya bernilai 6.84 menjadi 2.43\n",
    "* Walaupun Begitu masih terdapat data outlier pada visualisasi menggunakan boxplot dan distplot diatas hal ini tidak menjadi masalah karena metode statistik non-parametrik yang akan kita gunakan tidak sensitif pada data outliers."
   ]
  },
  {
   "cell_type": "markdown",
   "metadata": {},
   "source": [
    "## Hypothesis Testing"
   ]
  },
  {
   "cell_type": "markdown",
   "metadata": {},
   "source": [
    "Apakah pilihan Dari Perusahaan pengiriman memiliki pengaruh pada Biaya Kargo ?\n",
    "\n",
    "Untuk Pengujian ini kita melakukan pengujian Wilcoxon test. metode pengijian ini dipilih karena data Average Freight yang digunakan tidak terdistribusi normal sehingga metode statistik yang digunakan adalah metode statistik non parametrik.\n",
    "\n",
    "* H0 : Perbedaan Median terhadap rata-rata biaya kargo dari semua perusahaan pengiriman adalah sama X0 = X1\n",
    "* HA : Perbedaan Median terhadap rata-rata biaya kargo dari semua perusahaan pengiriman adalah tidak sama X0 != X1\n",
    "\n",
    "Hypothesis Testing ini menggunakan Two tailed testing dan nilai alpha = 0.05\n"
   ]
  },
  {
   "cell_type": "markdown",
   "metadata": {},
   "source": [
    "Karena jumlah dari data setiap perusahaan tidaklah sama maka kita akan mengambil sample dari setiap data "
   ]
  },
  {
   "cell_type": "code",
   "execution_count": 25,
   "metadata": {},
   "outputs": [],
   "source": [
    "def get_sample(data, n):\n",
    "    sample = []\n",
    "    while len(sample) != n:\n",
    "        x = np.random.choice(data)\n",
    "        sample.append(x)\n",
    "    \n",
    "    return sample\n",
    "def get_sample_mean(sample):\n",
    "    return sum(sample) / len(sample)\n",
    "def create_sample_distribution(data, dist_size=100, n=30):\n",
    "    sample_dist = []\n",
    "    while len(sample_dist) != dist_size:\n",
    "        sample = get_sample(data, n)\n",
    "        sample_mean = get_sample_mean(sample)\n",
    "        sample_dist.append(sample_mean)\n",
    "    \n",
    "    return sample_dist"
   ]
  },
  {
   "cell_type": "code",
   "execution_count": 26,
   "metadata": {},
   "outputs": [],
   "source": [
    "all_companies_sample = create_sample_distribution(all_companies, 1000,30)\n",
    "federal_sample = create_sample_distribution(federal, 1000, 30)\n",
    "speedy_sample = create_sample_distribution(speedy, 1000, 30)\n",
    "united_sample = create_sample_distribution(united, 1000, 30)"
   ]
  },
  {
   "cell_type": "code",
   "execution_count": 27,
   "metadata": {},
   "outputs": [
    {
     "data": {
      "text/html": [
       "<div>\n",
       "<style scoped>\n",
       "    .dataframe tbody tr th:only-of-type {\n",
       "        vertical-align: middle;\n",
       "    }\n",
       "\n",
       "    .dataframe tbody tr th {\n",
       "        vertical-align: top;\n",
       "    }\n",
       "\n",
       "    .dataframe thead th {\n",
       "        text-align: right;\n",
       "    }\n",
       "</style>\n",
       "<table border=\"1\" class=\"dataframe\">\n",
       "  <thead>\n",
       "    <tr style=\"text-align: right;\">\n",
       "      <th></th>\n",
       "      <th>Company</th>\n",
       "      <th>P_Value</th>\n",
       "      <th>Hypothesis</th>\n",
       "    </tr>\n",
       "  </thead>\n",
       "  <tbody>\n",
       "    <tr>\n",
       "      <th>0</th>\n",
       "      <td>Federal Shipping</td>\n",
       "      <td>1.099255e-05</td>\n",
       "      <td>Tolak H0</td>\n",
       "    </tr>\n",
       "    <tr>\n",
       "      <th>1</th>\n",
       "      <td>Speedy Express</td>\n",
       "      <td>8.085516e-05</td>\n",
       "      <td>Tolak H0</td>\n",
       "    </tr>\n",
       "    <tr>\n",
       "      <th>2</th>\n",
       "      <td>United Package</td>\n",
       "      <td>5.133280e-08</td>\n",
       "      <td>Tolak H0</td>\n",
       "    </tr>\n",
       "  </tbody>\n",
       "</table>\n",
       "</div>"
      ],
      "text/plain": [
       "            Company       P_Value Hypothesis\n",
       "0  Federal Shipping  1.099255e-05   Tolak H0\n",
       "1    Speedy Express  8.085516e-05   Tolak H0\n",
       "2    United Package  5.133280e-08   Tolak H0"
      ]
     },
     "execution_count": 27,
     "metadata": {},
     "output_type": "execute_result"
    }
   ],
   "source": [
    "companies_data = [federal_sample, speedy_sample, united_sample]\n",
    "pval_list=[]\n",
    "for i in range(len(companies_data)):\n",
    "    sumrank, pval = wilcoxon(all_companies_sample, companies_data[i], alternative='two-sided')\n",
    "    pval_list.append(pval)\n",
    "\n",
    "pval_df= pd.DataFrame({'Company':['Federal Shipping', 'Speedy Express', 'United Package'],\n",
    "'P_Value':pval_list})\n",
    "pval_df['Hypothesis'] =np.where(pval_df['P_Value'] < 0.05, 'Tolak H0', 'Terima HA')\n",
    "\n",
    "pval_df"
   ]
  },
  {
   "cell_type": "markdown",
   "metadata": {},
   "source": [
    "Semua hasil pengujian menunjukan hasil yang kurang dari nilai alpha, sehingga kita memiliki cukup bukti untuk menolak Hipotesis H0. hal ini membuktikan bahwa perbedaan median dari average freight dari setiap perusahaan pengiriman tidaklah sama dengan kata lain pemilihan perusahaan pengiriman memiliki pengaruh pada harga average Freight."
   ]
  },
  {
   "cell_type": "markdown",
   "metadata": {},
   "source": [
    "Sekarang kita melakukan pengetesan untuk mengetahui perusahaan pengiriman mana yang lebih mahal dengan hypothesis sebagai berikut\n",
    "- H0 : perbedaan median dari average freight cost dari 1 perusahaan dengan perusahaan lainnya adalah 0 X0 =X1\n",
    "- HA : perbedaan median dari average freight cost dari 1 perusahaan dengan perusahaan lainnya adalah tidak 0 X0 !=X1"
   ]
  },
  {
   "cell_type": "code",
   "execution_count": 50,
   "metadata": {},
   "outputs": [
    {
     "name": "stdout",
     "output_type": "stream",
     "text": [
      "Terima H0\n",
      "0.5198095422591804\n"
     ]
    }
   ],
   "source": [
    "# melakukan Wilcoxon Test antara data Federal Shipping dengan Speedy Express\n",
    "sumrank, pval = wilcoxon(federal_sample, speedy_sample, alternative='two-sided')\n",
    "if pval < 0.05:\n",
    "    print('Tolak H0')\n",
    "else:\n",
    "    print('Terima H0')\n",
    "print(pval)"
   ]
  },
  {
   "cell_type": "markdown",
   "metadata": {},
   "source": [
    "Berdasarkan uji hipotesis antara federal Shipping dan Speedy Express memiliki nilai p-value yang dihasilkan lebih besar dari 0.05. sehingga kita tidak memiliki cukup bukti untuk menolak hipotesis H0. dengan kata lain perbedaan dari nilai median antara perusahaan Federal Shipping dan Speedy Express adalah 0. atau nilai median dari kedua perusahaan ini adalah sama."
   ]
  },
  {
   "cell_type": "code",
   "execution_count": 29,
   "metadata": {},
   "outputs": [
    {
     "name": "stdout",
     "output_type": "stream",
     "text": [
      "Tolak H0\n"
     ]
    }
   ],
   "source": [
    "# melakukan Wilcoxon Test antara data Federal Shipping dengan United Package\n",
    "sumrank, pval = wilcoxon(federal_sample, united_sample, alternative='two-sided')\n",
    "if pval < 0.05:\n",
    "    print('Tolak H0')\n",
    "else:\n",
    "    print('Terima H0')"
   ]
  },
  {
   "cell_type": "markdown",
   "metadata": {},
   "source": [
    "Berdasarkan uji hipotesis antara federal Shipping dan United Package memiliki nilai p-value yang dihasilkan kurang dari 0.05. sehingga kita memiliki cukup bukti untuk menolak hipotesis H0. dengan kata lain perbedaan dari nilai median antara perusahaan Federal Shipping dan United Package adalah tidak 0. atau nilai median dari kedua perusahaan ini adalah tidak lah sama."
   ]
  },
  {
   "cell_type": "code",
   "execution_count": 30,
   "metadata": {},
   "outputs": [
    {
     "name": "stdout",
     "output_type": "stream",
     "text": [
      "Tolak H0\n"
     ]
    }
   ],
   "source": [
    "# melakukan Wilcoxon Test antara data Speedy Express dengan United Package\n",
    "sumrank, pval = wilcoxon(speedy_sample, united_sample, alternative='two-sided')\n",
    "if pval < 0.05:\n",
    "    print('Tolak H0')\n",
    "else:\n",
    "    print('Terima H0')"
   ]
  },
  {
   "cell_type": "markdown",
   "metadata": {},
   "source": [
    "Berdasarkan uji hipotesis antara Speedy Express dan United Package memiliki nilai p-value yang dihasilkan kurang dari 0.05. sehingga kita memiliki cukup bukti untuk menolak hipotesis H0. dengan kata lain perbedaan dari nilai median antara perusahaan Speedy Express dan United Package adalah tidak 0. atau nilai median dari kedua perusahaan ini adalah tidak lah sama."
   ]
  },
  {
   "cell_type": "code",
   "execution_count": 43,
   "metadata": {},
   "outputs": [
    {
     "data": {
      "text/plain": [
       "CompanyName\n",
       "Federal Shipping    2.300000\n",
       "Speedy Express      2.166667\n",
       "United Package      2.150000\n",
       "Name: Avg_Freight_win, dtype: float64"
      ]
     },
     "execution_count": 43,
     "metadata": {},
     "output_type": "execute_result"
    }
   ],
   "source": [
    "Avg_freight_df = df[['CompanyName', 'Avg_Freight_win']]\n",
    "Avg_freight_df['Avg_Freight_win'].groupby(Avg_freight_df['CompanyName']).median()"
   ]
  },
  {
   "cell_type": "code",
   "execution_count": 45,
   "metadata": {},
   "outputs": [
    {
     "data": {
      "image/png": "[encoded data removed]",
      "text/plain": [
       "<Figure size 576x360 with 1 Axes>"
      ]
     },
     "metadata": {
      "needs_background": "light"
     },
     "output_type": "display_data"
    }
   ],
   "source": [
    "plt.figure(figsize=(8,5))\n",
    "plt.title('Median Freight by Company')\n",
    "\n",
    "comapanies = df['CompanyName'].unique()\n",
    "for company in comapanies:\n",
    "    plt.bar(company, df[df['CompanyName']==company]['Avg_Freight_win'].median())\n",
    "\n",
    "plt.show()"
   ]
  },
  {
   "cell_type": "markdown",
   "metadata": {},
   "source": [
    "Berdasarkan pengamatan ini Speedy Express memiliki harga rata-rata terendah dari yang lainnya"
   ]
  }
 ],
 "metadata": {
  "interpreter": {
   "hash": "8fac594bfae6525c0c41b4041d2d72effa188cc8ead05f81b1fab2bb098927fb"
  },
  "kernelspec": {
   "display_name": "Python 3.8.8 ('base')",
   "language": "python",
   "name": "python3"
  },
  "language_info": {
   "codemirror_mode": {
    "name": "ipython",
    "version": 3
   },
   "file_extension": ".py",
   "mimetype": "text/x-python",
   "name": "python",
   "nbconvert_exporter": "python",
   "pygments_lexer": "ipython3",
   "version": "3.8.8"
  },
  "orig_nbformat": 4
 },
 "nbformat": 4,
 "nbformat_minor": 2
}
